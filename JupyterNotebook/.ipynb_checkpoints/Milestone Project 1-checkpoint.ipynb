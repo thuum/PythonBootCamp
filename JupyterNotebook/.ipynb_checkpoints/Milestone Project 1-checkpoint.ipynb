{
 "cells": [
  {
   "cell_type": "code",
   "execution_count": 9,
   "metadata": {},
   "outputs": [],
   "source": [
    "def get_player_choice():\n",
    "    playerChoice = None\n",
    "    while playerChoice == None:\n",
    "        playerChoice = input('What symbol do you want to be? (X / O): ')\n",
    "        if playerChoice != 'X' and playerChoice != 'O':\n",
    "            print('Sorry, invalid symbol')\n",
    "            playerChoice = None\n",
    "    return playerChoice"
   ]
  },
  {
   "cell_type": "code",
   "execution_count": 10,
   "metadata": {},
   "outputs": [],
   "source": [
    "def ask_for_game_start(restart = False):\n",
    "    startGame = None\n",
    "    while startGame == None:\n",
    "        if restart:\n",
    "            startGame = input('\\nDo you want to start another the game?: (Y / N): ')\n",
    "        else:\n",
    "            startGame = input('\\nDo you want to start the game?: (Y / N): ')\n",
    "        if startGame != 'Y' and startGame != 'N':\n",
    "            print('Sorry, invalid input')\n",
    "            startGame = None\n",
    "    print('')\n",
    "    if startGame == 'Y':\n",
    "        return True\n",
    "    else:\n",
    "        return False   "
   ]
  },
  {
   "cell_type": "code",
   "execution_count": 11,
   "metadata": {},
   "outputs": [],
   "source": [
    "def check_for_winner(winningSets, playerSet):\n",
    "    won = False\n",
    "    if len(playerSet) > 2:\n",
    "        for winSet in winningSets:\n",
    "            intersection = playerSet.intersection(winSet)\n",
    "            if len(intersection) == 3:\n",
    "                won = True\n",
    "    return won"
   ]
  },
  {
   "cell_type": "code",
   "execution_count": 12,
   "metadata": {},
   "outputs": [],
   "source": [
    "def receive_index_input(gameField):\n",
    "    index = None\n",
    "    while index == None:\n",
    "        index = input('Choose a number between 1-9: ')\n",
    "        if index.isdigit() == False:\n",
    "            print('\\nSorry, invalid input\\n')\n",
    "            index = None\n",
    "            continue\n",
    "        else:\n",
    "            index = int(index) - 1\n",
    "        if index < 0 or index > 8:\n",
    "            print('\\nSorry, your number is not between 1-9\\n')\n",
    "            index = None\n",
    "            continue\n",
    "        elif gameField[index] == 'X' or gameField[index] == 'O':\n",
    "            print(f'\\nSorry, your field no. {index+1} is already set')\n",
    "            index = None\n",
    "            continue\n",
    "    return index"
   ]
  },
  {
   "cell_type": "code",
   "execution_count": 17,
   "metadata": {},
   "outputs": [],
   "source": [
    "def game_loop(players, gameField, winningSets):\n",
    "    running = True\n",
    "    currentPlayer = 'Player1'\n",
    "    player1Set = set()\n",
    "    player2Set = set()\n",
    "    while running:\n",
    "        displayField(gameField)\n",
    "        print(f'{currentPlayer} turn:')\n",
    "        index = receive_index_input(gameField)\n",
    "        gameField[index] = players[currentPlayer]\n",
    "\n",
    "        if (currentPlayer == 'Player1'):\n",
    "            player1Set.add(index)\n",
    "            currentPlayer = 'Player2'\n",
    "            if check_for_winner(winningSets, player1Set):\n",
    "                displayField(gameField)\n",
    "                print('Player 1 has won the game!')\n",
    "                running = False\n",
    "                continue            \n",
    "        else:\n",
    "            player2Set.add(index)\n",
    "            currentPlayer = 'Player1'\n",
    "            if check_for_winner(winningSets, player2Set):\n",
    "                displayField(gameField)\n",
    "                print('Player 2 has won the game!')\n",
    "                running = False\n",
    "                continue\n",
    "        if ' ' not in gameField:\n",
    "            running = False\n",
    "            print(\"It's a draw!\")\n",
    "    return False"
   ]
  },
  {
   "cell_type": "code",
   "execution_count": 14,
   "metadata": {},
   "outputs": [],
   "source": [
    "def run_game(restart = False):\n",
    "    gameField = [' ', ' ', ' ', ' ', ' ', ' ', ' ', ' ', ' ']\n",
    "    winningSets = [{0, 1, 2}, {3, 4, 5}, {6, 7, 8}, {0, 3, 6}, {1, 4, 7}, {2, 5, 8}, {2, 4, 6}, {0, 4, 8}]\n",
    "    players = {'Player1': get_player_choice(), 'Player2': 'O'}\n",
    "    if players['Player1'] == 'O':\n",
    "        players['Player2'] = 'X'\n",
    "        \n",
    "    if restart == False:\n",
    "        gameStart = ask_for_game_start()\n",
    "\n",
    "    if restart or gameStart:\n",
    "        for player, symbol in players.items():\n",
    "            print(f'{player} is \"{symbol}\"')\n",
    "        print('\\nGame started!\\n')\n",
    "        if game_loop(players, gameField, winningSets) == False:\n",
    "            restart = ask_for_game_start(True)\n",
    "            if restart:\n",
    "                run_game(True)\n",
    "                \n",
    "    if restart == False:\n",
    "        print('Game ended')"
   ]
  },
  {
   "cell_type": "code",
   "execution_count": 15,
   "metadata": {},
   "outputs": [],
   "source": [
    "from IPython.display import clear_output\n",
    "def displayField(field):\n",
    "    clear_output()\n",
    "    print(f'\\n {field[6]} | {field[7]} | {field[8]} ')\n",
    "    print('-----------')\n",
    "    print(f' {field[3]} | {field[4]} | {field[5]} ')\n",
    "    print('-----------')\n",
    "    print(f' {field[0]} | {field[1]} | {field[2]} \\n')"
   ]
  },
  {
   "cell_type": "code",
   "execution_count": 19,
   "metadata": {},
   "outputs": [
    {
     "name": "stdout",
     "output_type": "stream",
     "text": [
      "\n",
      " O | X | O \n",
      "-----------\n",
      " X | O |   \n",
      "-----------\n",
      " X | O | X \n",
      "\n",
      "Player1 turn:\n",
      "Choose a number between 1-9: 6\n",
      "It's a draw!\n",
      "\n",
      "Do you want to start another the game?: (Y / N): N\n",
      "\n",
      "Game ended\n"
     ]
    }
   ],
   "source": [
    "run_game()"
   ]
  },
  {
   "cell_type": "code",
   "execution_count": null,
   "metadata": {},
   "outputs": [],
   "source": []
  }
 ],
 "metadata": {
  "kernelspec": {
   "display_name": "Python 3",
   "language": "python",
   "name": "python3"
  },
  "language_info": {
   "codemirror_mode": {
    "name": "ipython",
    "version": 3
   },
   "file_extension": ".py",
   "mimetype": "text/x-python",
   "name": "python",
   "nbconvert_exporter": "python",
   "pygments_lexer": "ipython3",
   "version": "3.8.5"
  }
 },
 "nbformat": 4,
 "nbformat_minor": 4
}
