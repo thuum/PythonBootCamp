{
 "cells": [
  {
   "cell_type": "code",
   "execution_count": 2,
   "metadata": {},
   "outputs": [],
   "source": [
    "def get_player_choice():\n",
    "    playerChoice = None\n",
    "    while playerChoice == None:\n",
    "        playerChoice = input('What symbol do you want to be? (X / O): ')\n",
    "        if playerChoice != 'X' and playerChoice != 'O':\n",
    "            print('Sorry, invalid symbol')\n",
    "            playerChoice = None\n",
    "    return playerChoice"
   ]
  },
  {
   "cell_type": "code",
   "execution_count": 3,
   "metadata": {},
   "outputs": [],
   "source": [
    "def ask_for_game_start():\n",
    "    startGame = None\n",
    "    while startGame == None:\n",
    "        startGame = input('\\nDo you want to start the game?: (Y / N): ')\n",
    "        if startGame != 'Y' and startGame != 'N':\n",
    "            print('Sorry, invalid input')\n",
    "            startGame = None\n",
    "    \n",
    "    if startGame == 'Y':\n",
    "        return True\n",
    "    else:\n",
    "        return False   "
   ]
  },
  {
   "cell_type": "code",
   "execution_count": 4,
   "metadata": {},
   "outputs": [],
   "source": [
    "def game_loop(players, gameField):\n",
    "    running = True\n",
    "    currentPlayer = 'Player1'\n",
    "    while running:\n",
    "        print(f'{currentPlayer} turn:')\n",
    "        index = input('Choose a number between 1-9: ')\n",
    "        gameField[int(index)-1] = players[currentPlayer]\n",
    "        if (currentPlayer == 'Player1'):\n",
    "            currentPlayer = 'Player2'\n",
    "        else:\n",
    "            currentPlayer = 'Player1'\n",
    "        displayField(gameField)"
   ]
  },
  {
   "cell_type": "code",
   "execution_count": 5,
   "metadata": {},
   "outputs": [],
   "source": [
    "def run_game():\n",
    "    gameField = [' ', ' ', ' ', ' ', ' ', ' ', ' ', ' ', ' ']\n",
    "    \n",
    "    players = {'Player1': get_player_choice(), 'Player2': 'O'}\n",
    "    if players['Player1'] == 'O':\n",
    "        players['Player2'] = 'X'\n",
    "        \n",
    "    gameStart = ask_for_game_start()\n",
    "\n",
    "    if gameStart:\n",
    "        print('\\n')\n",
    "        for player, symbol in players.items():\n",
    "            print(f'{player} is {symbol}')\n",
    "        print('\\nGame started!')\n",
    "        print('\\n')\n",
    "        game_loop(players, gameField)\n",
    "    else:\n",
    "        print('Game ended')"
   ]
  },
  {
   "cell_type": "code",
   "execution_count": 1,
   "metadata": {},
   "outputs": [
    {
     "ename": "SyntaxError",
     "evalue": "unexpected EOF while parsing (<ipython-input-1-0a2e211e7caf>, line 1)",
     "output_type": "error",
     "traceback": [
      "\u001b[1;36m  File \u001b[1;32m\"<ipython-input-1-0a2e211e7caf>\"\u001b[1;36m, line \u001b[1;32m1\u001b[0m\n\u001b[1;33m    def check_winner(gameField):\u001b[0m\n\u001b[1;37m                                ^\u001b[0m\n\u001b[1;31mSyntaxError\u001b[0m\u001b[1;31m:\u001b[0m unexpected EOF while parsing\n"
     ]
    }
   ],
   "source": [
    "def check_winner(gameField):\n",
    "    for()"
   ]
  },
  {
   "cell_type": "code",
   "execution_count": 6,
   "metadata": {},
   "outputs": [],
   "source": [
    "def displayField(field):\n",
    "    print(f' {field[6]} | {field[7]} | {field[8]} ')\n",
    "    print('-----------')\n",
    "    print(f' {field[3]} | {field[4]} | {field[5]} ')\n",
    "    print('-----------')\n",
    "    print(f' {field[0]} | {field[1]} | {field[2]} ')"
   ]
  },
  {
   "cell_type": "code",
   "execution_count": null,
   "metadata": {},
   "outputs": [],
   "source": [
    "run_game()"
   ]
  }
 ],
 "metadata": {
  "kernelspec": {
   "display_name": "Python 3",
   "language": "python",
   "name": "python3"
  },
  "language_info": {
   "codemirror_mode": {
    "name": "ipython",
    "version": 3
   },
   "file_extension": ".py",
   "mimetype": "text/x-python",
   "name": "python",
   "nbconvert_exporter": "python",
   "pygments_lexer": "ipython3",
   "version": "3.8.5"
  }
 },
 "nbformat": 4,
 "nbformat_minor": 4
}
